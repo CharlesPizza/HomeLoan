{
 "cells": [
  {
   "cell_type": "markdown",
   "id": "9e570ab5-7ebf-4094-9a10-9a5a66be7bd2",
   "metadata": {
    "tags": []
   },
   "source": [
    "# Real Time Loan Eligibility \n",
    "The Client wants to automate loan eligibility in real time. The solution will determine \"Loan_Status\" based on key features. Current solution is to have an expert look over the information and determine eligibility. The solution cuts down on workload of experts and saves labor costs. The solution will also be fed new data overtime, so we can label this as an __Online Supervised Classification Task.__ Given that this is Loan Eligibility, Pre Approving loans incorrectly will harm bottom line. We are shooting for very high precision in order to reduce labor cost in low risk cases, otherwise an expert will still be needed to review these cases."
   ]
  },
  {
   "cell_type": "markdown",
   "id": "585a2335-cffc-406b-bcd3-2b647dd3434d",
   "metadata": {},
   "source": [
    "__Assumptions:__\n",
    "> * ApplicantIncome, CoapplicantIncome, LoanAmount, LoanAmountTerm, CreditHistory and, Education will be among the most important features.\n",
    "> * ApplicantIncome & CoapplicantIncome may be combinable into a single feature.\n",
    "> * There exists an Income level where the model will auto approve all loans."
   ]
  },
  {
   "cell_type": "code",
   "execution_count": 1,
   "id": "b7b536dc-6b4f-4d82-9a49-864f24b4f27d",
   "metadata": {},
   "outputs": [],
   "source": [
    "import pandas as pd\n",
    "import numpy as np\n",
    "from scipy import stats\n",
    "\n",
    "import matplotlib.pyplot as plt\n",
    "import seaborn as sns"
   ]
  },
  {
   "cell_type": "code",
   "execution_count": 2,
   "id": "fd2dc28a-570b-42b6-9d81-a5600d4d8ce3",
   "metadata": {},
   "outputs": [],
   "source": [
    "df = pd.read_csv('../Data/HomeLoanApproval/loan_sanction_train.csv')"
   ]
  },
  {
   "cell_type": "code",
   "execution_count": 3,
   "id": "b6c36abe-310b-47be-bb26-3545ece33598",
   "metadata": {},
   "outputs": [
    {
     "data": {
      "text/html": [
       "<div>\n",
       "<style scoped>\n",
       "    .dataframe tbody tr th:only-of-type {\n",
       "        vertical-align: middle;\n",
       "    }\n",
       "\n",
       "    .dataframe tbody tr th {\n",
       "        vertical-align: top;\n",
       "    }\n",
       "\n",
       "    .dataframe thead th {\n",
       "        text-align: right;\n",
       "    }\n",
       "</style>\n",
       "<table border=\"1\" class=\"dataframe\">\n",
       "  <thead>\n",
       "    <tr style=\"text-align: right;\">\n",
       "      <th></th>\n",
       "      <th>Loan_ID</th>\n",
       "      <th>Gender</th>\n",
       "      <th>Married</th>\n",
       "      <th>Dependents</th>\n",
       "      <th>Education</th>\n",
       "      <th>Self_Employed</th>\n",
       "      <th>ApplicantIncome</th>\n",
       "      <th>CoapplicantIncome</th>\n",
       "      <th>LoanAmount</th>\n",
       "      <th>Loan_Amount_Term</th>\n",
       "      <th>Credit_History</th>\n",
       "      <th>Property_Area</th>\n",
       "      <th>Loan_Status</th>\n",
       "    </tr>\n",
       "  </thead>\n",
       "  <tbody>\n",
       "    <tr>\n",
       "      <th>0</th>\n",
       "      <td>LP001002</td>\n",
       "      <td>Male</td>\n",
       "      <td>No</td>\n",
       "      <td>0</td>\n",
       "      <td>Graduate</td>\n",
       "      <td>No</td>\n",
       "      <td>5849</td>\n",
       "      <td>0.0</td>\n",
       "      <td>NaN</td>\n",
       "      <td>360.0</td>\n",
       "      <td>1.0</td>\n",
       "      <td>Urban</td>\n",
       "      <td>Y</td>\n",
       "    </tr>\n",
       "    <tr>\n",
       "      <th>1</th>\n",
       "      <td>LP001003</td>\n",
       "      <td>Male</td>\n",
       "      <td>Yes</td>\n",
       "      <td>1</td>\n",
       "      <td>Graduate</td>\n",
       "      <td>No</td>\n",
       "      <td>4583</td>\n",
       "      <td>1508.0</td>\n",
       "      <td>128.0</td>\n",
       "      <td>360.0</td>\n",
       "      <td>1.0</td>\n",
       "      <td>Rural</td>\n",
       "      <td>N</td>\n",
       "    </tr>\n",
       "    <tr>\n",
       "      <th>2</th>\n",
       "      <td>LP001005</td>\n",
       "      <td>Male</td>\n",
       "      <td>Yes</td>\n",
       "      <td>0</td>\n",
       "      <td>Graduate</td>\n",
       "      <td>Yes</td>\n",
       "      <td>3000</td>\n",
       "      <td>0.0</td>\n",
       "      <td>66.0</td>\n",
       "      <td>360.0</td>\n",
       "      <td>1.0</td>\n",
       "      <td>Urban</td>\n",
       "      <td>Y</td>\n",
       "    </tr>\n",
       "  </tbody>\n",
       "</table>\n",
       "</div>"
      ],
      "text/plain": [
       "    Loan_ID Gender Married Dependents Education Self_Employed  \\\n",
       "0  LP001002   Male      No          0  Graduate            No   \n",
       "1  LP001003   Male     Yes          1  Graduate            No   \n",
       "2  LP001005   Male     Yes          0  Graduate           Yes   \n",
       "\n",
       "   ApplicantIncome  CoapplicantIncome  LoanAmount  Loan_Amount_Term  \\\n",
       "0             5849                0.0         NaN             360.0   \n",
       "1             4583             1508.0       128.0             360.0   \n",
       "2             3000                0.0        66.0             360.0   \n",
       "\n",
       "   Credit_History Property_Area Loan_Status  \n",
       "0             1.0         Urban           Y  \n",
       "1             1.0         Rural           N  \n",
       "2             1.0         Urban           Y  "
      ]
     },
     "execution_count": 3,
     "metadata": {},
     "output_type": "execute_result"
    }
   ],
   "source": [
    "df.head(3)"
   ]
  },
  {
   "cell_type": "code",
   "execution_count": 4,
   "id": "8923190e-2547-4f6b-afe8-444c0e588359",
   "metadata": {},
   "outputs": [
    {
     "name": "stdout",
     "output_type": "stream",
     "text": [
      "<class 'pandas.core.frame.DataFrame'>\n",
      "RangeIndex: 614 entries, 0 to 613\n",
      "Data columns (total 13 columns):\n",
      " #   Column             Non-Null Count  Dtype  \n",
      "---  ------             --------------  -----  \n",
      " 0   Loan_ID            614 non-null    object \n",
      " 1   Gender             601 non-null    object \n",
      " 2   Married            611 non-null    object \n",
      " 3   Dependents         599 non-null    object \n",
      " 4   Education          614 non-null    object \n",
      " 5   Self_Employed      582 non-null    object \n",
      " 6   ApplicantIncome    614 non-null    int64  \n",
      " 7   CoapplicantIncome  614 non-null    float64\n",
      " 8   LoanAmount         592 non-null    float64\n",
      " 9   Loan_Amount_Term   600 non-null    float64\n",
      " 10  Credit_History     564 non-null    float64\n",
      " 11  Property_Area      614 non-null    object \n",
      " 12  Loan_Status        614 non-null    object \n",
      "dtypes: float64(4), int64(1), object(8)\n",
      "memory usage: 62.5+ KB\n"
     ]
    }
   ],
   "source": [
    "df.info()"
   ]
  },
  {
   "cell_type": "code",
   "execution_count": 5,
   "id": "2da07d15-bd19-4c2d-b61e-e9fd17616945",
   "metadata": {},
   "outputs": [
    {
     "data": {
      "text/html": [
       "<div>\n",
       "<style scoped>\n",
       "    .dataframe tbody tr th:only-of-type {\n",
       "        vertical-align: middle;\n",
       "    }\n",
       "\n",
       "    .dataframe tbody tr th {\n",
       "        vertical-align: top;\n",
       "    }\n",
       "\n",
       "    .dataframe thead th {\n",
       "        text-align: right;\n",
       "    }\n",
       "</style>\n",
       "<table border=\"1\" class=\"dataframe\">\n",
       "  <thead>\n",
       "    <tr style=\"text-align: right;\">\n",
       "      <th></th>\n",
       "      <th>ApplicantIncome</th>\n",
       "      <th>CoapplicantIncome</th>\n",
       "      <th>LoanAmount</th>\n",
       "      <th>Loan_Amount_Term</th>\n",
       "      <th>Credit_History</th>\n",
       "    </tr>\n",
       "  </thead>\n",
       "  <tbody>\n",
       "    <tr>\n",
       "      <th>count</th>\n",
       "      <td>614.000000</td>\n",
       "      <td>614.000000</td>\n",
       "      <td>592.000000</td>\n",
       "      <td>600.00000</td>\n",
       "      <td>564.000000</td>\n",
       "    </tr>\n",
       "    <tr>\n",
       "      <th>mean</th>\n",
       "      <td>5403.459283</td>\n",
       "      <td>1621.245798</td>\n",
       "      <td>146.412162</td>\n",
       "      <td>342.00000</td>\n",
       "      <td>0.842199</td>\n",
       "    </tr>\n",
       "    <tr>\n",
       "      <th>std</th>\n",
       "      <td>6109.041673</td>\n",
       "      <td>2926.248369</td>\n",
       "      <td>85.587325</td>\n",
       "      <td>65.12041</td>\n",
       "      <td>0.364878</td>\n",
       "    </tr>\n",
       "    <tr>\n",
       "      <th>min</th>\n",
       "      <td>150.000000</td>\n",
       "      <td>0.000000</td>\n",
       "      <td>9.000000</td>\n",
       "      <td>12.00000</td>\n",
       "      <td>0.000000</td>\n",
       "    </tr>\n",
       "    <tr>\n",
       "      <th>25%</th>\n",
       "      <td>2877.500000</td>\n",
       "      <td>0.000000</td>\n",
       "      <td>100.000000</td>\n",
       "      <td>360.00000</td>\n",
       "      <td>1.000000</td>\n",
       "    </tr>\n",
       "    <tr>\n",
       "      <th>50%</th>\n",
       "      <td>3812.500000</td>\n",
       "      <td>1188.500000</td>\n",
       "      <td>128.000000</td>\n",
       "      <td>360.00000</td>\n",
       "      <td>1.000000</td>\n",
       "    </tr>\n",
       "    <tr>\n",
       "      <th>75%</th>\n",
       "      <td>5795.000000</td>\n",
       "      <td>2297.250000</td>\n",
       "      <td>168.000000</td>\n",
       "      <td>360.00000</td>\n",
       "      <td>1.000000</td>\n",
       "    </tr>\n",
       "    <tr>\n",
       "      <th>max</th>\n",
       "      <td>81000.000000</td>\n",
       "      <td>41667.000000</td>\n",
       "      <td>700.000000</td>\n",
       "      <td>480.00000</td>\n",
       "      <td>1.000000</td>\n",
       "    </tr>\n",
       "  </tbody>\n",
       "</table>\n",
       "</div>"
      ],
      "text/plain": [
       "       ApplicantIncome  CoapplicantIncome  LoanAmount  Loan_Amount_Term  \\\n",
       "count       614.000000         614.000000  592.000000         600.00000   \n",
       "mean       5403.459283        1621.245798  146.412162         342.00000   \n",
       "std        6109.041673        2926.248369   85.587325          65.12041   \n",
       "min         150.000000           0.000000    9.000000          12.00000   \n",
       "25%        2877.500000           0.000000  100.000000         360.00000   \n",
       "50%        3812.500000        1188.500000  128.000000         360.00000   \n",
       "75%        5795.000000        2297.250000  168.000000         360.00000   \n",
       "max       81000.000000       41667.000000  700.000000         480.00000   \n",
       "\n",
       "       Credit_History  \n",
       "count      564.000000  \n",
       "mean         0.842199  \n",
       "std          0.364878  \n",
       "min          0.000000  \n",
       "25%          1.000000  \n",
       "50%          1.000000  \n",
       "75%          1.000000  \n",
       "max          1.000000  "
      ]
     },
     "execution_count": 5,
     "metadata": {},
     "output_type": "execute_result"
    }
   ],
   "source": [
    "df.describe()"
   ]
  },
  {
   "cell_type": "markdown",
   "id": "cef76c66-f4ab-42ab-9f8b-29aed6bb29e9",
   "metadata": {},
   "source": [
    "### Splitting Data\n",
    "Income & Coapplicant Income is a major factor in determining the result. Given our small dataset we will seek to do a stratified split over a random split. However grouping would be better if it were something broad as raw data will have more outliers."
   ]
  },
  {
   "cell_type": "code",
   "execution_count": 6,
   "id": "17c481b8-609b-478f-b207-ac85f6f58bc7",
   "metadata": {},
   "outputs": [
    {
     "data": {
      "text/plain": [
       "<AxesSubplot:>"
      ]
     },
     "execution_count": 6,
     "metadata": {},
     "output_type": "execute_result"
    },
    {
     "data": {
      "image/png": "[encoded data removed]",
      "text/plain": [
       "<Figure size 432x288 with 1 Axes>"
      ]
     },
     "metadata": {
      "needs_background": "light"
     },
     "output_type": "display_data"
    }
   ],
   "source": [
    "df.ApplicantIncome.hist()"
   ]
  },
  {
   "cell_type": "code",
   "execution_count": 7,
   "id": "6a2075d7-e58a-49f9-bd53-7748a70ccf6d",
   "metadata": {},
   "outputs": [
    {
     "data": {
      "text/plain": [
       "<AxesSubplot:>"
      ]
     },
     "execution_count": 7,
     "metadata": {},
     "output_type": "execute_result"
    },
    {
     "data": {
      "image/png": "[encoded data removed]",
      "text/plain": [
       "<Figure size 432x288 with 1 Axes>"
      ]
     },
     "metadata": {
      "needs_background": "light"
     },
     "output_type": "display_data"
    }
   ],
   "source": [
    "df.CoapplicantIncome.hist()"
   ]
  },
  {
   "cell_type": "code",
   "execution_count": 8,
   "id": "04ba1633-fe9d-43ae-8785-f532b75a20df",
   "metadata": {},
   "outputs": [],
   "source": [
    "# We combine Applicant & CoapplicantIncome\n",
    "income_ = (df.ApplicantIncome + df.CoapplicantIncome)\n",
    "df['IncomeCategory'] = pd.cut(income_, bins=[0, 8000,16000, 24000, 40000, np.inf], labels = [1,2,3,4,5])"
   ]
  },
  {
   "cell_type": "code",
   "execution_count": 9,
   "id": "faec5792-5984-48a9-b6d3-c8c11eec86b6",
   "metadata": {},
   "outputs": [
    {
     "data": {
      "text/plain": [
       "1    482\n",
       "2    100\n",
       "3     21\n",
       "4      6\n",
       "5      5\n",
       "Name: IncomeCategory, dtype: int64"
      ]
     },
     "execution_count": 9,
     "metadata": {},
     "output_type": "execute_result"
    }
   ],
   "source": [
    "df['IncomeCategory'].value_counts()"
   ]
  },
  {
   "cell_type": "code",
   "execution_count": 10,
   "id": "98f89f0e-885b-42be-949d-d4b7487b35dc",
   "metadata": {},
   "outputs": [
    {
     "data": {
      "text/plain": [
       "1    0.784114\n",
       "2    0.162933\n",
       "3    0.034623\n",
       "4    0.010183\n",
       "5    0.008147\n",
       "Name: IncomeCategory, dtype: float64"
      ]
     },
     "execution_count": 10,
     "metadata": {},
     "output_type": "execute_result"
    }
   ],
   "source": [
    "from sklearn.model_selection import train_test_split\n",
    "strat_train, strat_test = train_test_split(\n",
    "    df, test_size=0.2, stratify=df['IncomeCategory'], random_state=7)\n",
    "strat_train['IncomeCategory'].value_counts()/len(strat_train)"
   ]
  },
  {
   "cell_type": "markdown",
   "id": "d14f719b-838a-403e-a403-4e91bdcc2bba",
   "metadata": {},
   "source": [
    "While we've done our best to keep these in reasonable bins, I'm not really happy with the distribution. <br>\n",
    "Skewed data like this may actually require more robust instance engineering with feature obfuscation.<br>\n",
    "In any case, IncomeCategory was engineered prior to split, so we will be dropping it."
   ]
  },
  {
   "cell_type": "code",
   "execution_count": 11,
   "id": "16c464de-8bb0-4da8-a98f-d0b0a9d82f42",
   "metadata": {},
   "outputs": [
    {
     "data": {
      "text/plain": [
       "Index(['Loan_ID', 'Gender', 'Married', 'Dependents', 'Education',\n",
       "       'Self_Employed', 'ApplicantIncome', 'CoapplicantIncome', 'LoanAmount',\n",
       "       'Loan_Amount_Term', 'Credit_History', 'Property_Area', 'Loan_Status'],\n",
       "      dtype='object')"
      ]
     },
     "execution_count": 11,
     "metadata": {},
     "output_type": "execute_result"
    }
   ],
   "source": [
    "for set_ in (strat_train, strat_test):\n",
    "    set_.drop('IncomeCategory', axis=1, inplace=True)\n",
    "strat_train.columns"
   ]
  },
  {
   "cell_type": "code",
   "execution_count": 12,
   "id": "6c661783-f64a-421e-b154-b9e2db8efece",
   "metadata": {},
   "outputs": [],
   "source": [
    "X_train, y_train = strat_train.iloc[:, :-1], strat_train.iloc[:, -1]"
   ]
  },
  {
   "cell_type": "markdown",
   "id": "aadf57cd-10dc-4d56-b94f-368ba49a0749",
   "metadata": {},
   "source": [
    "### Several of the data columns are unusable in their current format. \n",
    "While it is the perogative to split train and test data as early as possible, given our small dataset we want to perform a Stratified KFold split. Doing so requires we properly encode the columns to get the proper reading."
   ]
  },
  {
   "cell_type": "code",
   "execution_count": 13,
   "id": "32fbaee5-0d81-4ff8-9687-f1ef46b12704",
   "metadata": {},
   "outputs": [
    {
     "name": "stdout",
     "output_type": "stream",
     "text": [
      "<class 'pandas.core.frame.DataFrame'>\n",
      "Int64Index: 491 entries, 340 to 596\n",
      "Data columns (total 12 columns):\n",
      " #   Column             Non-Null Count  Dtype  \n",
      "---  ------             --------------  -----  \n",
      " 0   Loan_ID            491 non-null    object \n",
      " 1   Gender             482 non-null    object \n",
      " 2   Married            488 non-null    object \n",
      " 3   Dependents         476 non-null    object \n",
      " 4   Education          491 non-null    object \n",
      " 5   Self_Employed      464 non-null    object \n",
      " 6   ApplicantIncome    491 non-null    int64  \n",
      " 7   CoapplicantIncome  491 non-null    float64\n",
      " 8   LoanAmount         473 non-null    float64\n",
      " 9   Loan_Amount_Term   480 non-null    float64\n",
      " 10  Credit_History     452 non-null    float64\n",
      " 11  Property_Area      491 non-null    object \n",
      "dtypes: float64(4), int64(1), object(7)\n",
      "memory usage: 49.9+ KB\n"
     ]
    }
   ],
   "source": [
    "X_train.info()"
   ]
  },
  {
   "cell_type": "code",
   "execution_count": 14,
   "id": "e04f6035-b806-434d-b062-f9162ee30b68",
   "metadata": {},
   "outputs": [
    {
     "data": {
      "text/html": [
       "<div>\n",
       "<style scoped>\n",
       "    .dataframe tbody tr th:only-of-type {\n",
       "        vertical-align: middle;\n",
       "    }\n",
       "\n",
       "    .dataframe tbody tr th {\n",
       "        vertical-align: top;\n",
       "    }\n",
       "\n",
       "    .dataframe thead th {\n",
       "        text-align: right;\n",
       "    }\n",
       "</style>\n",
       "<table border=\"1\" class=\"dataframe\">\n",
       "  <thead>\n",
       "    <tr style=\"text-align: right;\">\n",
       "      <th></th>\n",
       "      <th>ApplicantIncome</th>\n",
       "      <th>CoapplicantIncome</th>\n",
       "      <th>LoanAmount</th>\n",
       "      <th>Loan_Amount_Term</th>\n",
       "      <th>Credit_History</th>\n",
       "    </tr>\n",
       "  </thead>\n",
       "  <tbody>\n",
       "    <tr>\n",
       "      <th>count</th>\n",
       "      <td>491.000000</td>\n",
       "      <td>491.000000</td>\n",
       "      <td>473.000000</td>\n",
       "      <td>480.000000</td>\n",
       "      <td>452.000000</td>\n",
       "    </tr>\n",
       "    <tr>\n",
       "      <th>mean</th>\n",
       "      <td>5546.576375</td>\n",
       "      <td>1524.828758</td>\n",
       "      <td>144.773784</td>\n",
       "      <td>341.100000</td>\n",
       "      <td>0.840708</td>\n",
       "    </tr>\n",
       "    <tr>\n",
       "      <th>std</th>\n",
       "      <td>6309.886958</td>\n",
       "      <td>2656.993287</td>\n",
       "      <td>81.824518</td>\n",
       "      <td>64.970641</td>\n",
       "      <td>0.366354</td>\n",
       "    </tr>\n",
       "    <tr>\n",
       "      <th>min</th>\n",
       "      <td>210.000000</td>\n",
       "      <td>0.000000</td>\n",
       "      <td>17.000000</td>\n",
       "      <td>12.000000</td>\n",
       "      <td>0.000000</td>\n",
       "    </tr>\n",
       "    <tr>\n",
       "      <th>25%</th>\n",
       "      <td>2932.000000</td>\n",
       "      <td>0.000000</td>\n",
       "      <td>100.000000</td>\n",
       "      <td>360.000000</td>\n",
       "      <td>1.000000</td>\n",
       "    </tr>\n",
       "    <tr>\n",
       "      <th>50%</th>\n",
       "      <td>3867.000000</td>\n",
       "      <td>1040.000000</td>\n",
       "      <td>126.000000</td>\n",
       "      <td>360.000000</td>\n",
       "      <td>1.000000</td>\n",
       "    </tr>\n",
       "    <tr>\n",
       "      <th>75%</th>\n",
       "      <td>5817.000000</td>\n",
       "      <td>2216.500000</td>\n",
       "      <td>165.000000</td>\n",
       "      <td>360.000000</td>\n",
       "      <td>1.000000</td>\n",
       "    </tr>\n",
       "    <tr>\n",
       "      <th>max</th>\n",
       "      <td>81000.000000</td>\n",
       "      <td>41667.000000</td>\n",
       "      <td>600.000000</td>\n",
       "      <td>480.000000</td>\n",
       "      <td>1.000000</td>\n",
       "    </tr>\n",
       "  </tbody>\n",
       "</table>\n",
       "</div>"
      ],
      "text/plain": [
       "       ApplicantIncome  CoapplicantIncome  LoanAmount  Loan_Amount_Term  \\\n",
       "count       491.000000         491.000000  473.000000        480.000000   \n",
       "mean       5546.576375        1524.828758  144.773784        341.100000   \n",
       "std        6309.886958        2656.993287   81.824518         64.970641   \n",
       "min         210.000000           0.000000   17.000000         12.000000   \n",
       "25%        2932.000000           0.000000  100.000000        360.000000   \n",
       "50%        3867.000000        1040.000000  126.000000        360.000000   \n",
       "75%        5817.000000        2216.500000  165.000000        360.000000   \n",
       "max       81000.000000       41667.000000  600.000000        480.000000   \n",
       "\n",
       "       Credit_History  \n",
       "count      452.000000  \n",
       "mean         0.840708  \n",
       "std          0.366354  \n",
       "min          0.000000  \n",
       "25%          1.000000  \n",
       "50%          1.000000  \n",
       "75%          1.000000  \n",
       "max          1.000000  "
      ]
     },
     "execution_count": 14,
     "metadata": {},
     "output_type": "execute_result"
    }
   ],
   "source": [
    "X_train.describe()"
   ]
  },
  {
   "cell_type": "markdown",
   "id": "3ae7ed8f-fa66-4d87-aa05-bbb40fe3e898",
   "metadata": {},
   "source": [
    "## Data Breakdown\n",
    "> ColumnID = Type. - > New Designated Type. Notes\n",
    "* Loan_ID = String. All unique, no repeats. String.\n",
    "* Gender = String - > Bool. Male or female. Missing 13 values.\n",
    "* Married = String - > Bool. Missing 3 values.\n",
    "* Dependents = String - > Category. Missing 15 values.\n",
    "* Education = String - > Bool.\n",
    "* Self Employed = String - > Bool\n",
    "* ApplicatnIncome = int64\n",
    "* CoapplicantIncome = float64\n",
    "* LoanAmount = float64. Missing 24 values. _Can these even be approved?_\n",
    "* Loan_Amount_Term = float64. Missing 14 values.\n",
    "* Credit_History = float64 - > Category. Missing 50 values.\n",
    "* PropertyArea = Object - > Category."
   ]
  },
  {
   "cell_type": "code",
   "execution_count": 15,
   "id": "bbe650b5-25bc-4348-92bb-4d587cb070bb",
   "metadata": {},
   "outputs": [],
   "source": [
    "# Set columns to all follow same spelling rules\n",
    "std_col_names = ['LoanID', 'Gender', 'Married', 'Dependents', 'Education', 'SelfEmployed', \n",
    "                 'ApplicantIncome', 'CoapplicantIncome', 'LoanAmount', 'LoanAmountTerm', \n",
    "                 'CreditHistory', 'PropertyArea', 'LoanStatus']\n",
    "col_names_dict = dict(zip(list(strat_train.columns),std_col_names))\n",
    "X_train.columns = X_train.columns.map(col_names_dict)"
   ]
  },
  {
   "cell_type": "markdown",
   "id": "a89951bd-b544-4362-81f1-cdec0a52fe42",
   "metadata": {},
   "source": [
    "### Addressing Missing Values\n",
    "* LoanAmount\n",
    "* Loan_Amount_Term\n",
    "* Credit_History\n",
    "* Gender\n",
    "* Married\n",
    "* Dependents\n",
    "* Education\n",
    "* Self_Employed"
   ]
  },
  {
   "cell_type": "code",
   "execution_count": 17,
   "id": "cf31ca42-808f-4457-8367-77ed90cb58da",
   "metadata": {},
   "outputs": [
    {
     "data": {
      "text/html": [
       "<div>\n",
       "<style scoped>\n",
       "    .dataframe tbody tr th:only-of-type {\n",
       "        vertical-align: middle;\n",
       "    }\n",
       "\n",
       "    .dataframe tbody tr th {\n",
       "        vertical-align: top;\n",
       "    }\n",
       "\n",
       "    .dataframe thead th {\n",
       "        text-align: right;\n",
       "    }\n",
       "</style>\n",
       "<table border=\"1\" class=\"dataframe\">\n",
       "  <thead>\n",
       "    <tr style=\"text-align: right;\">\n",
       "      <th></th>\n",
       "      <th>LoanID</th>\n",
       "      <th>Gender</th>\n",
       "      <th>Married</th>\n",
       "      <th>Dependents</th>\n",
       "      <th>Education</th>\n",
       "      <th>SelfEmployed</th>\n",
       "      <th>ApplicantIncome</th>\n",
       "      <th>CoapplicantIncome</th>\n",
       "      <th>LoanAmount</th>\n",
       "      <th>LoanAmountTerm</th>\n",
       "      <th>CreditHistory</th>\n",
       "      <th>PropertyArea</th>\n",
       "    </tr>\n",
       "  </thead>\n",
       "  <tbody>\n",
       "    <tr>\n",
       "      <th>340</th>\n",
       "      <td>False</td>\n",
       "      <td>False</td>\n",
       "      <td>False</td>\n",
       "      <td>False</td>\n",
       "      <td>False</td>\n",
       "      <td>False</td>\n",
       "      <td>False</td>\n",
       "      <td>False</td>\n",
       "      <td>False</td>\n",
       "      <td>False</td>\n",
       "      <td>False</td>\n",
       "      <td>False</td>\n",
       "    </tr>\n",
       "    <tr>\n",
       "      <th>421</th>\n",
       "      <td>False</td>\n",
       "      <td>False</td>\n",
       "      <td>False</td>\n",
       "      <td>False</td>\n",
       "      <td>False</td>\n",
       "      <td>False</td>\n",
       "      <td>False</td>\n",
       "      <td>False</td>\n",
       "      <td>False</td>\n",
       "      <td>True</td>\n",
       "      <td>False</td>\n",
       "      <td>False</td>\n",
       "    </tr>\n",
       "    <tr>\n",
       "      <th>551</th>\n",
       "      <td>False</td>\n",
       "      <td>False</td>\n",
       "      <td>False</td>\n",
       "      <td>False</td>\n",
       "      <td>False</td>\n",
       "      <td>False</td>\n",
       "      <td>False</td>\n",
       "      <td>False</td>\n",
       "      <td>True</td>\n",
       "      <td>False</td>\n",
       "      <td>False</td>\n",
       "      <td>False</td>\n",
       "    </tr>\n",
       "    <tr>\n",
       "      <th>248</th>\n",
       "      <td>False</td>\n",
       "      <td>False</td>\n",
       "      <td>False</td>\n",
       "      <td>False</td>\n",
       "      <td>False</td>\n",
       "      <td>False</td>\n",
       "      <td>False</td>\n",
       "      <td>False</td>\n",
       "      <td>False</td>\n",
       "      <td>False</td>\n",
       "      <td>False</td>\n",
       "      <td>False</td>\n",
       "    </tr>\n",
       "    <tr>\n",
       "      <th>585</th>\n",
       "      <td>False</td>\n",
       "      <td>False</td>\n",
       "      <td>False</td>\n",
       "      <td>False</td>\n",
       "      <td>False</td>\n",
       "      <td>False</td>\n",
       "      <td>False</td>\n",
       "      <td>False</td>\n",
       "      <td>False</td>\n",
       "      <td>False</td>\n",
       "      <td>False</td>\n",
       "      <td>False</td>\n",
       "    </tr>\n",
       "    <tr>\n",
       "      <th>...</th>\n",
       "      <td>...</td>\n",
       "      <td>...</td>\n",
       "      <td>...</td>\n",
       "      <td>...</td>\n",
       "      <td>...</td>\n",
       "      <td>...</td>\n",
       "      <td>...</td>\n",
       "      <td>...</td>\n",
       "      <td>...</td>\n",
       "      <td>...</td>\n",
       "      <td>...</td>\n",
       "      <td>...</td>\n",
       "    </tr>\n",
       "    <tr>\n",
       "      <th>579</th>\n",
       "      <td>False</td>\n",
       "      <td>False</td>\n",
       "      <td>False</td>\n",
       "      <td>False</td>\n",
       "      <td>False</td>\n",
       "      <td>True</td>\n",
       "      <td>False</td>\n",
       "      <td>False</td>\n",
       "      <td>False</td>\n",
       "      <td>False</td>\n",
       "      <td>False</td>\n",
       "      <td>False</td>\n",
       "    </tr>\n",
       "    <tr>\n",
       "      <th>143</th>\n",
       "      <td>False</td>\n",
       "      <td>False</td>\n",
       "      <td>False</td>\n",
       "      <td>False</td>\n",
       "      <td>False</td>\n",
       "      <td>False</td>\n",
       "      <td>False</td>\n",
       "      <td>False</td>\n",
       "      <td>False</td>\n",
       "      <td>False</td>\n",
       "      <td>False</td>\n",
       "      <td>False</td>\n",
       "    </tr>\n",
       "    <tr>\n",
       "      <th>190</th>\n",
       "      <td>False</td>\n",
       "      <td>False</td>\n",
       "      <td>False</td>\n",
       "      <td>False</td>\n",
       "      <td>False</td>\n",
       "      <td>False</td>\n",
       "      <td>False</td>\n",
       "      <td>False</td>\n",
       "      <td>False</td>\n",
       "      <td>False</td>\n",
       "      <td>False</td>\n",
       "      <td>False</td>\n",
       "    </tr>\n",
       "    <tr>\n",
       "      <th>124</th>\n",
       "      <td>False</td>\n",
       "      <td>False</td>\n",
       "      <td>False</td>\n",
       "      <td>False</td>\n",
       "      <td>False</td>\n",
       "      <td>False</td>\n",
       "      <td>False</td>\n",
       "      <td>False</td>\n",
       "      <td>False</td>\n",
       "      <td>False</td>\n",
       "      <td>False</td>\n",
       "      <td>False</td>\n",
       "    </tr>\n",
       "    <tr>\n",
       "      <th>596</th>\n",
       "      <td>False</td>\n",
       "      <td>False</td>\n",
       "      <td>False</td>\n",
       "      <td>False</td>\n",
       "      <td>False</td>\n",
       "      <td>False</td>\n",
       "      <td>False</td>\n",
       "      <td>False</td>\n",
       "      <td>False</td>\n",
       "      <td>False</td>\n",
       "      <td>False</td>\n",
       "      <td>False</td>\n",
       "    </tr>\n",
       "  </tbody>\n",
       "</table>\n",
       "<p>491 rows × 12 columns</p>\n",
       "</div>"
      ],
      "text/plain": [
       "     LoanID  Gender  Married  Dependents  Education  SelfEmployed  \\\n",
       "340   False   False    False       False      False         False   \n",
       "421   False   False    False       False      False         False   \n",
       "551   False   False    False       False      False         False   \n",
       "248   False   False    False       False      False         False   \n",
       "585   False   False    False       False      False         False   \n",
       "..      ...     ...      ...         ...        ...           ...   \n",
       "579   False   False    False       False      False          True   \n",
       "143   False   False    False       False      False         False   \n",
       "190   False   False    False       False      False         False   \n",
       "124   False   False    False       False      False         False   \n",
       "596   False   False    False       False      False         False   \n",
       "\n",
       "     ApplicantIncome  CoapplicantIncome  LoanAmount  LoanAmountTerm  \\\n",
       "340            False              False       False           False   \n",
       "421            False              False       False            True   \n",
       "551            False              False        True           False   \n",
       "248            False              False       False           False   \n",
       "585            False              False       False           False   \n",
       "..               ...                ...         ...             ...   \n",
       "579            False              False       False           False   \n",
       "143            False              False       False           False   \n",
       "190            False              False       False           False   \n",
       "124            False              False       False           False   \n",
       "596            False              False       False           False   \n",
       "\n",
       "     CreditHistory  PropertyArea  \n",
       "340          False         False  \n",
       "421          False         False  \n",
       "551          False         False  \n",
       "248          False         False  \n",
       "585          False         False  \n",
       "..             ...           ...  \n",
       "579          False         False  \n",
       "143          False         False  \n",
       "190          False         False  \n",
       "124          False         False  \n",
       "596          False         False  \n",
       "\n",
       "[491 rows x 12 columns]"
      ]
     },
     "execution_count": 17,
     "metadata": {},
     "output_type": "execute_result"
    }
   ],
   "source": [
    "X_train.isna()"
   ]
  },
  {
   "cell_type": "code",
   "execution_count": 18,
   "id": "90b168a8-b9f1-423a-93e5-929df2279958",
   "metadata": {},
   "outputs": [
    {
     "data": {
      "text/plain": [
       "Male      396\n",
       "Female     86\n",
       "Name: Gender, dtype: int64"
      ]
     },
     "execution_count": 18,
     "metadata": {},
     "output_type": "execute_result"
    }
   ],
   "source": [
    "X_train['Gender'].value_counts()"
   ]
  },
  {
   "cell_type": "code",
   "execution_count": 19,
   "id": "22578049-0a31-420d-b8a0-9a4930c59972",
   "metadata": {},
   "outputs": [
    {
     "data": {
      "image/png": "[encoded data removed]",
      "text/plain": [
       "<Figure size 864x576 with 4 Axes>"
      ]
     },
     "metadata": {
      "needs_background": "light"
     },
     "output_type": "display_data"
    }
   ],
   "source": [
    "mask = X_train['Gender'].isnull()\n",
    "fig, axs = plt.subplots(2,2, figsize=(12,8))\n",
    "axs = axs.flatten()\n",
    "for idx, c in enumerate(num_list):\n",
    "    axs[idx].hist(X_train[mask][c])\n",
    "    axs[idx].set_title(c)\n",
    "plt.suptitle('NULL Gender Instance Distribution', fontsize=16)\n",
    "plt.show()"
   ]
  },
  {
   "cell_type": "code",
   "execution_count": 20,
   "id": "01065b8b-8d4f-4217-80be-e7f1cb0d16de",
   "metadata": {},
   "outputs": [
    {
     "data": {
      "text/plain": [
       "0.018329938900203666"
      ]
     },
     "execution_count": 20,
     "metadata": {},
     "output_type": "execute_result"
    }
   ],
   "source": [
    "X_train[X_train['Gender'].isna()].count()[0]/X_train.shape[0]"
   ]
  },
  {
   "cell_type": "markdown",
   "id": "794fd456-d638-416c-9920-5caab7c8d35a",
   "metadata": {},
   "source": [
    "We will be assigning the missing Gender columns to Male.\n",
    "Reasoning:\n",
    "* Male is overwhelmingly dominant category with 80% of instances.\n",
    "* We are missing only 2% of Gender instances. This is not enough to offset the feature importance of the Gender Category.\n",
    "* I hypothesis Gender to be a poor predictor of end-result. "
   ]
  },
  {
   "cell_type": "markdown",
   "id": "b0149ad1-d4fd-4daa-9a8b-5b5cb95c6684",
   "metadata": {},
   "source": [
    "__Married__ \n",
    "Married status may be significant to the client, though probably less significant than CoapplicantIncome. \n",
    "> __Hypothesis:__ Married Applicants are more likely to have a CoapplicantIncome. They may also be more likely to have dependents, which are usually children."
   ]
  },
  {
   "cell_type": "code",
   "execution_count": 21,
   "id": "5cac2b4d-7e27-4d98-a74f-8c57050000a2",
   "metadata": {},
   "outputs": [
    {
     "data": {
      "text/html": [
       "<div>\n",
       "<style scoped>\n",
       "    .dataframe tbody tr th:only-of-type {\n",
       "        vertical-align: middle;\n",
       "    }\n",
       "\n",
       "    .dataframe tbody tr th {\n",
       "        vertical-align: top;\n",
       "    }\n",
       "\n",
       "    .dataframe thead th {\n",
       "        text-align: right;\n",
       "    }\n",
       "</style>\n",
       "<table border=\"1\" class=\"dataframe\">\n",
       "  <thead>\n",
       "    <tr style=\"text-align: right;\">\n",
       "      <th></th>\n",
       "      <th>LoanID</th>\n",
       "      <th>Gender</th>\n",
       "      <th>Married</th>\n",
       "      <th>Dependents</th>\n",
       "      <th>Education</th>\n",
       "      <th>SelfEmployed</th>\n",
       "      <th>ApplicantIncome</th>\n",
       "      <th>CoapplicantIncome</th>\n",
       "      <th>LoanAmount</th>\n",
       "      <th>LoanAmountTerm</th>\n",
       "      <th>CreditHistory</th>\n",
       "      <th>PropertyArea</th>\n",
       "    </tr>\n",
       "  </thead>\n",
       "  <tbody>\n",
       "    <tr>\n",
       "      <th>104</th>\n",
       "      <td>LP001357</td>\n",
       "      <td>Male</td>\n",
       "      <td>NaN</td>\n",
       "      <td>NaN</td>\n",
       "      <td>Graduate</td>\n",
       "      <td>No</td>\n",
       "      <td>3816</td>\n",
       "      <td>754.0</td>\n",
       "      <td>160.0</td>\n",
       "      <td>360.0</td>\n",
       "      <td>1.0</td>\n",
       "      <td>Urban</td>\n",
       "    </tr>\n",
       "    <tr>\n",
       "      <th>435</th>\n",
       "      <td>LP002393</td>\n",
       "      <td>Female</td>\n",
       "      <td>NaN</td>\n",
       "      <td>NaN</td>\n",
       "      <td>Graduate</td>\n",
       "      <td>No</td>\n",
       "      <td>10047</td>\n",
       "      <td>0.0</td>\n",
       "      <td>NaN</td>\n",
       "      <td>240.0</td>\n",
       "      <td>1.0</td>\n",
       "      <td>Semiurban</td>\n",
       "    </tr>\n",
       "    <tr>\n",
       "      <th>228</th>\n",
       "      <td>LP001760</td>\n",
       "      <td>Male</td>\n",
       "      <td>NaN</td>\n",
       "      <td>NaN</td>\n",
       "      <td>Graduate</td>\n",
       "      <td>No</td>\n",
       "      <td>4758</td>\n",
       "      <td>0.0</td>\n",
       "      <td>158.0</td>\n",
       "      <td>480.0</td>\n",
       "      <td>1.0</td>\n",
       "      <td>Semiurban</td>\n",
       "    </tr>\n",
       "  </tbody>\n",
       "</table>\n",
       "</div>"
      ],
      "text/plain": [
       "       LoanID  Gender Married Dependents Education SelfEmployed  \\\n",
       "104  LP001357    Male     NaN        NaN  Graduate           No   \n",
       "435  LP002393  Female     NaN        NaN  Graduate           No   \n",
       "228  LP001760    Male     NaN        NaN  Graduate           No   \n",
       "\n",
       "     ApplicantIncome  CoapplicantIncome  LoanAmount  LoanAmountTerm  \\\n",
       "104             3816              754.0       160.0           360.0   \n",
       "435            10047                0.0         NaN           240.0   \n",
       "228             4758                0.0       158.0           480.0   \n",
       "\n",
       "     CreditHistory PropertyArea  \n",
       "104            1.0        Urban  \n",
       "435            1.0    Semiurban  \n",
       "228            1.0    Semiurban  "
      ]
     },
     "execution_count": 21,
     "metadata": {},
     "output_type": "execute_result"
    }
   ],
   "source": [
    "X_train[X_train['Married'].isna()]"
   ]
  },
  {
   "cell_type": "code",
   "execution_count": 22,
   "id": "a51e5e9a-2deb-45b2-96e5-d17782e907ef",
   "metadata": {},
   "outputs": [
    {
     "data": {
      "text/plain": [
       "Yes    0.661914\n",
       "No     0.331976\n",
       "Name: Married, dtype: float64"
      ]
     },
     "execution_count": 22,
     "metadata": {},
     "output_type": "execute_result"
    }
   ],
   "source": [
    "X_train['Married'].value_counts()/len(X_train)"
   ]
  },
  {
   "cell_type": "code",
   "execution_count": 23,
   "id": "8d43062e-3825-4612-be69-07a09a52042f",
   "metadata": {},
   "outputs": [
    {
     "name": "stderr",
     "output_type": "stream",
     "text": [
      "C:\\Users\\Charles\\AppData\\Local\\Temp\\ipykernel_14652\\3621419652.py:1: FutureWarning: ['LoanID', 'Dependents', 'Education', 'SelfEmployed', 'PropertyArea'] did not aggregate successfully. If any error is raised this will raise in a future version of pandas. Drop these columns/ops to avoid this warning.\n",
      "  X_train.groupby(['Gender', 'Married']).agg(['count', 'mean'])\n"
     ]
    },
    {
     "data": {
      "text/html": [
       "<div>\n",
       "<style scoped>\n",
       "    .dataframe tbody tr th:only-of-type {\n",
       "        vertical-align: middle;\n",
       "    }\n",
       "\n",
       "    .dataframe tbody tr th {\n",
       "        vertical-align: top;\n",
       "    }\n",
       "\n",
       "    .dataframe thead tr th {\n",
       "        text-align: left;\n",
       "    }\n",
       "\n",
       "    .dataframe thead tr:last-of-type th {\n",
       "        text-align: right;\n",
       "    }\n",
       "</style>\n",
       "<table border=\"1\" class=\"dataframe\">\n",
       "  <thead>\n",
       "    <tr>\n",
       "      <th></th>\n",
       "      <th></th>\n",
       "      <th colspan=\"2\" halign=\"left\">ApplicantIncome</th>\n",
       "      <th colspan=\"2\" halign=\"left\">CoapplicantIncome</th>\n",
       "      <th colspan=\"2\" halign=\"left\">LoanAmount</th>\n",
       "      <th colspan=\"2\" halign=\"left\">LoanAmountTerm</th>\n",
       "      <th colspan=\"2\" halign=\"left\">CreditHistory</th>\n",
       "    </tr>\n",
       "    <tr>\n",
       "      <th></th>\n",
       "      <th></th>\n",
       "      <th>count</th>\n",
       "      <th>mean</th>\n",
       "      <th>count</th>\n",
       "      <th>mean</th>\n",
       "      <th>count</th>\n",
       "      <th>mean</th>\n",
       "      <th>count</th>\n",
       "      <th>mean</th>\n",
       "      <th>count</th>\n",
       "      <th>mean</th>\n",
       "    </tr>\n",
       "    <tr>\n",
       "      <th>Gender</th>\n",
       "      <th>Married</th>\n",
       "      <th></th>\n",
       "      <th></th>\n",
       "      <th></th>\n",
       "      <th></th>\n",
       "      <th></th>\n",
       "      <th></th>\n",
       "      <th></th>\n",
       "      <th></th>\n",
       "      <th></th>\n",
       "      <th></th>\n",
       "    </tr>\n",
       "  </thead>\n",
       "  <tbody>\n",
       "    <tr>\n",
       "      <th rowspan=\"2\" valign=\"top\">Female</th>\n",
       "      <th>No</th>\n",
       "      <td>62</td>\n",
       "      <td>4869.580645</td>\n",
       "      <td>62</td>\n",
       "      <td>1020.645161</td>\n",
       "      <td>60</td>\n",
       "      <td>118.616667</td>\n",
       "      <td>60</td>\n",
       "      <td>358.000000</td>\n",
       "      <td>55</td>\n",
       "      <td>0.818182</td>\n",
       "    </tr>\n",
       "    <tr>\n",
       "      <th>Yes</th>\n",
       "      <td>23</td>\n",
       "      <td>4663.782609</td>\n",
       "      <td>23</td>\n",
       "      <td>1554.000000</td>\n",
       "      <td>23</td>\n",
       "      <td>156.869565</td>\n",
       "      <td>23</td>\n",
       "      <td>340.173913</td>\n",
       "      <td>21</td>\n",
       "      <td>0.904762</td>\n",
       "    </tr>\n",
       "    <tr>\n",
       "      <th rowspan=\"2\" valign=\"top\">Male</th>\n",
       "      <th>No</th>\n",
       "      <td>98</td>\n",
       "      <td>5445.816327</td>\n",
       "      <td>98</td>\n",
       "      <td>1056.724490</td>\n",
       "      <td>95</td>\n",
       "      <td>134.631579</td>\n",
       "      <td>97</td>\n",
       "      <td>350.103093</td>\n",
       "      <td>93</td>\n",
       "      <td>0.827957</td>\n",
       "    </tr>\n",
       "    <tr>\n",
       "      <th>Yes</th>\n",
       "      <td>296</td>\n",
       "      <td>5702.753378</td>\n",
       "      <td>296</td>\n",
       "      <td>1797.074054</td>\n",
       "      <td>284</td>\n",
       "      <td>151.538732</td>\n",
       "      <td>288</td>\n",
       "      <td>334.458333</td>\n",
       "      <td>272</td>\n",
       "      <td>0.841912</td>\n",
       "    </tr>\n",
       "  </tbody>\n",
       "</table>\n",
       "</div>"
      ],
      "text/plain": [
       "               ApplicantIncome              CoapplicantIncome               \\\n",
       "                         count         mean             count         mean   \n",
       "Gender Married                                                               \n",
       "Female No                   62  4869.580645                62  1020.645161   \n",
       "       Yes                  23  4663.782609                23  1554.000000   \n",
       "Male   No                   98  5445.816327                98  1056.724490   \n",
       "       Yes                 296  5702.753378               296  1797.074054   \n",
       "\n",
       "               LoanAmount             LoanAmountTerm              \\\n",
       "                    count        mean          count        mean   \n",
       "Gender Married                                                     \n",
       "Female No              60  118.616667             60  358.000000   \n",
       "       Yes             23  156.869565             23  340.173913   \n",
       "Male   No              95  134.631579             97  350.103093   \n",
       "       Yes            284  151.538732            288  334.458333   \n",
       "\n",
       "               CreditHistory            \n",
       "                       count      mean  \n",
       "Gender Married                          \n",
       "Female No                 55  0.818182  \n",
       "       Yes                21  0.904762  \n",
       "Male   No                 93  0.827957  \n",
       "       Yes               272  0.841912  "
      ]
     },
     "execution_count": 23,
     "metadata": {},
     "output_type": "execute_result"
    }
   ],
   "source": [
    "X_train.groupby(['Gender', 'Married']).agg(['count', 'mean'])"
   ]
  },
  {
   "cell_type": "code",
   "execution_count": 24,
   "id": "1983a4aa-9add-4479-901b-49258d69ce4b",
   "metadata": {},
   "outputs": [
    {
     "data": {
      "text/plain": [
       "Married  Dependents\n",
       "Yes      0             0.300\n",
       "No       0             0.267\n",
       "Yes      2             0.162\n",
       "         1             0.122\n",
       "         3+            0.082\n",
       "No       1             0.040\n",
       "         3+            0.015\n",
       "         2             0.013\n",
       "dtype: float64"
      ]
     },
     "execution_count": 24,
     "metadata": {},
     "output_type": "execute_result"
    }
   ],
   "source": [
    "X_train[['Married', 'Dependents']].value_counts(normalize=True).round(3)"
   ]
  },
  {
   "cell_type": "markdown",
   "id": "646a8a1d-db3a-43b3-9cc0-abc069eb7ddb",
   "metadata": {},
   "source": [
    "__Takeaway__ <br>\n",
    "Unfortunately, the features we anticipated to use to predict the Married columns are missing from the instances we seek. While we may make the assumption that those who don't enter data for this are more likely to be unmarried, the majority of our cases are Married.\n",
    "\n",
    "We assign values according to Gender Breakdown. Males being more likely to be married and, Females being less likely."
   ]
  },
  {
   "cell_type": "markdown",
   "id": "95500024-7049-4865-a29d-8a785ae1dad7",
   "metadata": {},
   "source": [
    "__Dependents__<br>\n",
    "Given that Dependents is going to be converted into a category, however an additional category of Unknown/NaN is not possible due to the small size that would make up the category.\n",
    "We use most frequent."
   ]
  },
  {
   "cell_type": "code",
   "execution_count": 25,
   "id": "cf44a325-8789-48d8-b7ec-1b889a441e4e",
   "metadata": {},
   "outputs": [
    {
     "data": {
      "image/png": "[encoded data removed]",
      "text/plain": [
       "<Figure size 432x288 with 1 Axes>"
      ]
     },
     "metadata": {
      "needs_background": "light"
     },
     "output_type": "display_data"
    }
   ],
   "source": [
    "X_train['Dependents'] = X_train['Dependents'].astype('category')\n",
    "X_train['Dependents'].hist()\n",
    "plt.show()"
   ]
  },
  {
   "cell_type": "code",
   "execution_count": 68,
   "id": "06ed1975-4831-4896-83d5-f2e13f5e94ef",
   "metadata": {},
   "outputs": [
    {
     "data": {
      "text/html": [
       "<div>\n",
       "<style scoped>\n",
       "    .dataframe tbody tr th:only-of-type {\n",
       "        vertical-align: middle;\n",
       "    }\n",
       "\n",
       "    .dataframe tbody tr th {\n",
       "        vertical-align: top;\n",
       "    }\n",
       "\n",
       "    .dataframe thead th {\n",
       "        text-align: right;\n",
       "    }\n",
       "</style>\n",
       "<table border=\"1\" class=\"dataframe\">\n",
       "  <thead>\n",
       "    <tr style=\"text-align: right;\">\n",
       "      <th></th>\n",
       "      <th>LoanID</th>\n",
       "      <th>Gender</th>\n",
       "      <th>Married</th>\n",
       "      <th>Dependents</th>\n",
       "      <th>Education</th>\n",
       "      <th>SelfEmployed</th>\n",
       "      <th>ApplicantIncome</th>\n",
       "      <th>CoapplicantIncome</th>\n",
       "      <th>LoanAmount</th>\n",
       "      <th>LoanAmountTerm</th>\n",
       "      <th>CreditHistory</th>\n",
       "      <th>PropertyArea</th>\n",
       "      <th>Loan_Status</th>\n",
       "    </tr>\n",
       "  </thead>\n",
       "  <tbody>\n",
       "    <tr>\n",
       "      <th>102</th>\n",
       "      <td>LP001350</td>\n",
       "      <td>Male</td>\n",
       "      <td>Yes</td>\n",
       "      <td>NaN</td>\n",
       "      <td>Graduate</td>\n",
       "      <td>No</td>\n",
       "      <td>13650</td>\n",
       "      <td>0.0</td>\n",
       "      <td>NaN</td>\n",
       "      <td>360.0</td>\n",
       "      <td>1.0</td>\n",
       "      <td>Urban</td>\n",
       "      <td>Y</td>\n",
       "    </tr>\n",
       "    <tr>\n",
       "      <th>597</th>\n",
       "      <td>LP002943</td>\n",
       "      <td>Male</td>\n",
       "      <td>No</td>\n",
       "      <td>NaN</td>\n",
       "      <td>Graduate</td>\n",
       "      <td>No</td>\n",
       "      <td>2987</td>\n",
       "      <td>0.0</td>\n",
       "      <td>88.0</td>\n",
       "      <td>360.0</td>\n",
       "      <td>0.0</td>\n",
       "      <td>Semiurban</td>\n",
       "      <td>N</td>\n",
       "    </tr>\n",
       "    <tr>\n",
       "      <th>335</th>\n",
       "      <td>LP002106</td>\n",
       "      <td>Male</td>\n",
       "      <td>Yes</td>\n",
       "      <td>NaN</td>\n",
       "      <td>Graduate</td>\n",
       "      <td>Yes</td>\n",
       "      <td>5503</td>\n",
       "      <td>4490.0</td>\n",
       "      <td>70.0</td>\n",
       "      <td>NaN</td>\n",
       "      <td>1.0</td>\n",
       "      <td>Semiurban</td>\n",
       "      <td>Y</td>\n",
       "    </tr>\n",
       "    <tr>\n",
       "      <th>355</th>\n",
       "      <td>LP002144</td>\n",
       "      <td>Female</td>\n",
       "      <td>No</td>\n",
       "      <td>NaN</td>\n",
       "      <td>Graduate</td>\n",
       "      <td>No</td>\n",
       "      <td>3813</td>\n",
       "      <td>0.0</td>\n",
       "      <td>116.0</td>\n",
       "      <td>180.0</td>\n",
       "      <td>1.0</td>\n",
       "      <td>Urban</td>\n",
       "      <td>Y</td>\n",
       "    </tr>\n",
       "    <tr>\n",
       "      <th>571</th>\n",
       "      <td>LP002847</td>\n",
       "      <td>Male</td>\n",
       "      <td>Yes</td>\n",
       "      <td>NaN</td>\n",
       "      <td>Graduate</td>\n",
       "      <td>No</td>\n",
       "      <td>5116</td>\n",
       "      <td>1451.0</td>\n",
       "      <td>165.0</td>\n",
       "      <td>360.0</td>\n",
       "      <td>0.0</td>\n",
       "      <td>Urban</td>\n",
       "      <td>N</td>\n",
       "    </tr>\n",
       "    <tr>\n",
       "      <th>293</th>\n",
       "      <td>LP001945</td>\n",
       "      <td>Female</td>\n",
       "      <td>No</td>\n",
       "      <td>NaN</td>\n",
       "      <td>Graduate</td>\n",
       "      <td>No</td>\n",
       "      <td>5417</td>\n",
       "      <td>0.0</td>\n",
       "      <td>143.0</td>\n",
       "      <td>480.0</td>\n",
       "      <td>0.0</td>\n",
       "      <td>Urban</td>\n",
       "      <td>N</td>\n",
       "    </tr>\n",
       "    <tr>\n",
       "      <th>104</th>\n",
       "      <td>LP001357</td>\n",
       "      <td>Male</td>\n",
       "      <td>NaN</td>\n",
       "      <td>NaN</td>\n",
       "      <td>Graduate</td>\n",
       "      <td>No</td>\n",
       "      <td>3816</td>\n",
       "      <td>754.0</td>\n",
       "      <td>160.0</td>\n",
       "      <td>360.0</td>\n",
       "      <td>1.0</td>\n",
       "      <td>Urban</td>\n",
       "      <td>Y</td>\n",
       "    </tr>\n",
       "    <tr>\n",
       "      <th>301</th>\n",
       "      <td>LP001972</td>\n",
       "      <td>Male</td>\n",
       "      <td>Yes</td>\n",
       "      <td>NaN</td>\n",
       "      <td>Not Graduate</td>\n",
       "      <td>No</td>\n",
       "      <td>2875</td>\n",
       "      <td>1750.0</td>\n",
       "      <td>105.0</td>\n",
       "      <td>360.0</td>\n",
       "      <td>1.0</td>\n",
       "      <td>Semiurban</td>\n",
       "      <td>Y</td>\n",
       "    </tr>\n",
       "    <tr>\n",
       "      <th>332</th>\n",
       "      <td>LP002100</td>\n",
       "      <td>Male</td>\n",
       "      <td>No</td>\n",
       "      <td>NaN</td>\n",
       "      <td>Graduate</td>\n",
       "      <td>No</td>\n",
       "      <td>2833</td>\n",
       "      <td>0.0</td>\n",
       "      <td>71.0</td>\n",
       "      <td>360.0</td>\n",
       "      <td>1.0</td>\n",
       "      <td>Urban</td>\n",
       "      <td>Y</td>\n",
       "    </tr>\n",
       "    <tr>\n",
       "      <th>120</th>\n",
       "      <td>LP001426</td>\n",
       "      <td>Male</td>\n",
       "      <td>Yes</td>\n",
       "      <td>NaN</td>\n",
       "      <td>Graduate</td>\n",
       "      <td>No</td>\n",
       "      <td>5667</td>\n",
       "      <td>2667.0</td>\n",
       "      <td>180.0</td>\n",
       "      <td>360.0</td>\n",
       "      <td>1.0</td>\n",
       "      <td>Rural</td>\n",
       "      <td>Y</td>\n",
       "    </tr>\n",
       "    <tr>\n",
       "      <th>226</th>\n",
       "      <td>LP001754</td>\n",
       "      <td>Male</td>\n",
       "      <td>Yes</td>\n",
       "      <td>NaN</td>\n",
       "      <td>Not Graduate</td>\n",
       "      <td>Yes</td>\n",
       "      <td>4735</td>\n",
       "      <td>0.0</td>\n",
       "      <td>138.0</td>\n",
       "      <td>360.0</td>\n",
       "      <td>1.0</td>\n",
       "      <td>Urban</td>\n",
       "      <td>N</td>\n",
       "    </tr>\n",
       "    <tr>\n",
       "      <th>435</th>\n",
       "      <td>LP002393</td>\n",
       "      <td>Female</td>\n",
       "      <td>NaN</td>\n",
       "      <td>NaN</td>\n",
       "      <td>Graduate</td>\n",
       "      <td>No</td>\n",
       "      <td>10047</td>\n",
       "      <td>0.0</td>\n",
       "      <td>NaN</td>\n",
       "      <td>240.0</td>\n",
       "      <td>1.0</td>\n",
       "      <td>Semiurban</td>\n",
       "      <td>Y</td>\n",
       "    </tr>\n",
       "    <tr>\n",
       "      <th>517</th>\n",
       "      <td>LP002682</td>\n",
       "      <td>Male</td>\n",
       "      <td>Yes</td>\n",
       "      <td>NaN</td>\n",
       "      <td>Not Graduate</td>\n",
       "      <td>No</td>\n",
       "      <td>3074</td>\n",
       "      <td>1800.0</td>\n",
       "      <td>123.0</td>\n",
       "      <td>360.0</td>\n",
       "      <td>0.0</td>\n",
       "      <td>Semiurban</td>\n",
       "      <td>N</td>\n",
       "    </tr>\n",
       "    <tr>\n",
       "      <th>228</th>\n",
       "      <td>LP001760</td>\n",
       "      <td>Male</td>\n",
       "      <td>NaN</td>\n",
       "      <td>NaN</td>\n",
       "      <td>Graduate</td>\n",
       "      <td>No</td>\n",
       "      <td>4758</td>\n",
       "      <td>0.0</td>\n",
       "      <td>158.0</td>\n",
       "      <td>480.0</td>\n",
       "      <td>1.0</td>\n",
       "      <td>Semiurban</td>\n",
       "      <td>Y</td>\n",
       "    </tr>\n",
       "    <tr>\n",
       "      <th>346</th>\n",
       "      <td>LP002130</td>\n",
       "      <td>Male</td>\n",
       "      <td>Yes</td>\n",
       "      <td>NaN</td>\n",
       "      <td>Not Graduate</td>\n",
       "      <td>No</td>\n",
       "      <td>3523</td>\n",
       "      <td>3230.0</td>\n",
       "      <td>152.0</td>\n",
       "      <td>360.0</td>\n",
       "      <td>0.0</td>\n",
       "      <td>Rural</td>\n",
       "      <td>N</td>\n",
       "    </tr>\n",
       "  </tbody>\n",
       "</table>\n",
       "</div>"
      ],
      "text/plain": [
       "       LoanID  Gender Married Dependents     Education SelfEmployed  \\\n",
       "102  LP001350    Male     Yes        NaN      Graduate           No   \n",
       "597  LP002943    Male      No        NaN      Graduate           No   \n",
       "335  LP002106    Male     Yes        NaN      Graduate          Yes   \n",
       "355  LP002144  Female      No        NaN      Graduate           No   \n",
       "571  LP002847    Male     Yes        NaN      Graduate           No   \n",
       "293  LP001945  Female      No        NaN      Graduate           No   \n",
       "104  LP001357    Male     NaN        NaN      Graduate           No   \n",
       "301  LP001972    Male     Yes        NaN  Not Graduate           No   \n",
       "332  LP002100    Male      No        NaN      Graduate           No   \n",
       "120  LP001426    Male     Yes        NaN      Graduate           No   \n",
       "226  LP001754    Male     Yes        NaN  Not Graduate          Yes   \n",
       "435  LP002393  Female     NaN        NaN      Graduate           No   \n",
       "517  LP002682    Male     Yes        NaN  Not Graduate           No   \n",
       "228  LP001760    Male     NaN        NaN      Graduate           No   \n",
       "346  LP002130    Male     Yes        NaN  Not Graduate           No   \n",
       "\n",
       "     ApplicantIncome  CoapplicantIncome  LoanAmount  LoanAmountTerm  \\\n",
       "102            13650                0.0         NaN           360.0   \n",
       "597             2987                0.0        88.0           360.0   \n",
       "335             5503             4490.0        70.0             NaN   \n",
       "355             3813                0.0       116.0           180.0   \n",
       "571             5116             1451.0       165.0           360.0   \n",
       "293             5417                0.0       143.0           480.0   \n",
       "104             3816              754.0       160.0           360.0   \n",
       "301             2875             1750.0       105.0           360.0   \n",
       "332             2833                0.0        71.0           360.0   \n",
       "120             5667             2667.0       180.0           360.0   \n",
       "226             4735                0.0       138.0           360.0   \n",
       "435            10047                0.0         NaN           240.0   \n",
       "517             3074             1800.0       123.0           360.0   \n",
       "228             4758                0.0       158.0           480.0   \n",
       "346             3523             3230.0       152.0           360.0   \n",
       "\n",
       "     CreditHistory PropertyArea Loan_Status  \n",
       "102            1.0        Urban           Y  \n",
       "597            0.0    Semiurban           N  \n",
       "335            1.0    Semiurban           Y  \n",
       "355            1.0        Urban           Y  \n",
       "571            0.0        Urban           N  \n",
       "293            0.0        Urban           N  \n",
       "104            1.0        Urban           Y  \n",
       "301            1.0    Semiurban           Y  \n",
       "332            1.0        Urban           Y  \n",
       "120            1.0        Rural           Y  \n",
       "226            1.0        Urban           N  \n",
       "435            1.0    Semiurban           Y  \n",
       "517            0.0    Semiurban           N  \n",
       "228            1.0    Semiurban           Y  \n",
       "346            0.0        Rural           N  "
      ]
     },
     "execution_count": 68,
     "metadata": {},
     "output_type": "execute_result"
    }
   ],
   "source": [
    "mask = X_train['Dependents'].isna()\n",
    "X_train[mask].join(y_train[mask])"
   ]
  },
  {
   "cell_type": "markdown",
   "id": "d2e4bf47-5ac5-4e6f-94af-8ad46be4e8d2",
   "metadata": {},
   "source": [
    "__SelfEmployed__ = Most Frequent"
   ]
  },
  {
   "cell_type": "code",
   "execution_count": 27,
   "id": "a97ecea1-8310-45b9-91bd-59f5587f4d99",
   "metadata": {},
   "outputs": [
    {
     "data": {
      "image/png": "[encoded data removed]",
      "text/plain": [
       "<Figure size 432x288 with 1 Axes>"
      ]
     },
     "metadata": {
      "needs_background": "light"
     },
     "output_type": "display_data"
    }
   ],
   "source": [
    "X_train['SelfEmployed'].hist()\n",
    "plt.show()"
   ]
  },
  {
   "cell_type": "markdown",
   "id": "a7822d20-ae80-4db5-992a-8caf9dee11f3",
   "metadata": {},
   "source": [
    "__CreditHistory__"
   ]
  },
  {
   "cell_type": "code",
   "execution_count": 65,
   "id": "a9c8bd10-6093-4845-8882-c0aefbd47482",
   "metadata": {},
   "outputs": [
    {
     "data": {
      "text/plain": [
       "1.0    380\n",
       "0.0     72\n",
       "Name: CreditHistory, dtype: int64"
      ]
     },
     "execution_count": 65,
     "metadata": {},
     "output_type": "execute_result"
    }
   ],
   "source": [
    "X_train['CreditHistory'].value_counts()"
   ]
  },
  {
   "cell_type": "code",
   "execution_count": 57,
   "id": "7c26fb67-2868-403b-ae30-25ad4d8e4527",
   "metadata": {},
   "outputs": [
    {
     "data": {
      "image/png": "[encoded data removed]",
      "text/plain": [
       "<Figure size 432x288 with 1 Axes>"
      ]
     },
     "metadata": {
      "needs_background": "light"
     },
     "output_type": "display_data"
    }
   ],
   "source": [
    "X_train.join(y_train).groupby(['CreditHistory', 'Loan_Status'], ).count().iloc[:,0].unstack(level=-1).plot(kind='bar')\n",
    "plt.show()"
   ]
  },
  {
   "cell_type": "code",
   "execution_count": 69,
   "id": "443fb8b3-238e-443d-b477-eacc724ef616",
   "metadata": {},
   "outputs": [
    {
     "data": {
      "text/plain": [
       "CreditHistory  Loan_Status\n",
       "0.0            N               66\n",
       "               Y                6\n",
       "1.0            N               73\n",
       "               Y              307\n",
       "Name: LoanID, dtype: int64"
      ]
     },
     "execution_count": 69,
     "metadata": {},
     "output_type": "execute_result"
    }
   ],
   "source": [
    "X_train.join(y_train).groupby(['CreditHistory', 'Loan_Status'], ).count().iloc[:,0]"
   ]
  },
  {
   "cell_type": "markdown",
   "id": "1771d3f1-5cba-4ad6-ba9b-027855349bd5",
   "metadata": {},
   "source": [
    "__Takeaway:__ Creating a third category isn't feasible when it would only be 3% of the dataset. This would be to heavily skewed in such a tiny dataset. Most Frequent."
   ]
  },
  {
   "cell_type": "markdown",
   "id": "15887589-6d34-46c7-9098-c9653d0c6e96",
   "metadata": {},
   "source": [
    "### __Numericals__\n",
    "__LoanAmount & LoanAmountTerm__ Both are very important features."
   ]
  },
  {
   "cell_type": "code",
   "execution_count": 59,
   "id": "33ccc322-c3ca-4b81-84fe-44b22ef330b1",
   "metadata": {},
   "outputs": [
    {
     "name": "stdout",
     "output_type": "stream",
     "text": [
      "Unique Values of LoanAmount: 183\n",
      "Unique Values of LoanAmountTerm: 9\n"
     ]
    },
    {
     "data": {
      "text/html": [
       "<div>\n",
       "<style scoped>\n",
       "    .dataframe tbody tr th:only-of-type {\n",
       "        vertical-align: middle;\n",
       "    }\n",
       "\n",
       "    .dataframe tbody tr th {\n",
       "        vertical-align: top;\n",
       "    }\n",
       "\n",
       "    .dataframe thead th {\n",
       "        text-align: right;\n",
       "    }\n",
       "</style>\n",
       "<table border=\"1\" class=\"dataframe\">\n",
       "  <thead>\n",
       "    <tr style=\"text-align: right;\">\n",
       "      <th></th>\n",
       "      <th>LoanAmount</th>\n",
       "      <th>LoanAmountTerm</th>\n",
       "    </tr>\n",
       "  </thead>\n",
       "  <tbody>\n",
       "    <tr>\n",
       "      <th>count</th>\n",
       "      <td>473.000000</td>\n",
       "      <td>480.000000</td>\n",
       "    </tr>\n",
       "    <tr>\n",
       "      <th>mean</th>\n",
       "      <td>144.773784</td>\n",
       "      <td>341.100000</td>\n",
       "    </tr>\n",
       "    <tr>\n",
       "      <th>std</th>\n",
       "      <td>81.824518</td>\n",
       "      <td>64.970641</td>\n",
       "    </tr>\n",
       "    <tr>\n",
       "      <th>min</th>\n",
       "      <td>17.000000</td>\n",
       "      <td>12.000000</td>\n",
       "    </tr>\n",
       "    <tr>\n",
       "      <th>25%</th>\n",
       "      <td>100.000000</td>\n",
       "      <td>360.000000</td>\n",
       "    </tr>\n",
       "    <tr>\n",
       "      <th>50%</th>\n",
       "      <td>126.000000</td>\n",
       "      <td>360.000000</td>\n",
       "    </tr>\n",
       "    <tr>\n",
       "      <th>75%</th>\n",
       "      <td>165.000000</td>\n",
       "      <td>360.000000</td>\n",
       "    </tr>\n",
       "    <tr>\n",
       "      <th>max</th>\n",
       "      <td>600.000000</td>\n",
       "      <td>480.000000</td>\n",
       "    </tr>\n",
       "  </tbody>\n",
       "</table>\n",
       "</div>"
      ],
      "text/plain": [
       "       LoanAmount  LoanAmountTerm\n",
       "count  473.000000      480.000000\n",
       "mean   144.773784      341.100000\n",
       "std     81.824518       64.970641\n",
       "min     17.000000       12.000000\n",
       "25%    100.000000      360.000000\n",
       "50%    126.000000      360.000000\n",
       "75%    165.000000      360.000000\n",
       "max    600.000000      480.000000"
      ]
     },
     "execution_count": 59,
     "metadata": {},
     "output_type": "execute_result"
    }
   ],
   "source": [
    "print(f'Unique Values of LoanAmount: {X_train[\"LoanAmount\"].nunique()}')\n",
    "print(f'Unique Values of LoanAmountTerm: {X_train[\"LoanAmountTerm\"].nunique()}')\n",
    "X_train[['LoanAmount', 'LoanAmountTerm']].describe()"
   ]
  },
  {
   "cell_type": "code",
   "execution_count": 60,
   "id": "a5560423-15db-446e-8b46-127b77e49759",
   "metadata": {},
   "outputs": [
    {
     "data": {
      "image/png": "[encoded data removed]",
      "text/plain": [
       "<Figure size 864x576 with 1 Axes>"
      ]
     },
     "metadata": {
      "needs_background": "light"
     },
     "output_type": "display_data"
    }
   ],
   "source": [
    "plt.figure(figsize=(12,8))\n",
    "plt.boxplot(X_train[['LoanAmount', 'LoanAmountTerm']].describe())\n",
    "plt.show()"
   ]
  },
  {
   "cell_type": "code",
   "execution_count": 71,
   "id": "c0d78c1e-de6f-49e0-a710-32d5681f18a7",
   "metadata": {},
   "outputs": [],
   "source": [
    "bool_list = ['Gender', 'Married', 'Education', 'SelfEmployed']\n",
    "cat_list = ['PropertyArea', 'Dependents', 'CreditHistory']\n",
    "num_list = ['ApplicantIncome', 'CoapplicantIncome', 'LoanAmount']\n",
    "def convert_dataframe(df):\n",
    "    for i in bool_list:\n",
    "        df[i] = df[i].astype('bool')\n",
    "    for i in cat_list:\n",
    "        df[i] = df[i].astype('category')\n",
    "    return df\n",
    "X_train = convert_dataframe(X_train)"
   ]
  },
  {
   "cell_type": "code",
   "execution_count": 72,
   "id": "3b335ec2-6e0b-49b5-9cc2-69d7e628d101",
   "metadata": {},
   "outputs": [
    {
     "name": "stdout",
     "output_type": "stream",
     "text": [
      "<class 'pandas.core.frame.DataFrame'>\n",
      "Int64Index: 491 entries, 340 to 596\n",
      "Data columns (total 12 columns):\n",
      " #   Column             Non-Null Count  Dtype   \n",
      "---  ------             --------------  -----   \n",
      " 0   LoanID             491 non-null    object  \n",
      " 1   Gender             491 non-null    bool    \n",
      " 2   Married            491 non-null    bool    \n",
      " 3   Dependents         476 non-null    category\n",
      " 4   Education          491 non-null    bool    \n",
      " 5   SelfEmployed       491 non-null    bool    \n",
      " 6   ApplicantIncome    491 non-null    int64   \n",
      " 7   CoapplicantIncome  491 non-null    float64 \n",
      " 8   LoanAmount         473 non-null    float64 \n",
      " 9   LoanAmountTerm     480 non-null    float64 \n",
      " 10  CreditHistory      452 non-null    category\n",
      " 11  PropertyArea       491 non-null    category\n",
      "dtypes: bool(4), category(3), float64(3), int64(1), object(1)\n",
      "memory usage: 43.0+ KB\n"
     ]
    }
   ],
   "source": [
    "X_train.info()"
   ]
  },
  {
   "cell_type": "markdown",
   "id": "1375ef0d-56b2-4ed1-981e-dab242cc57ac",
   "metadata": {},
   "source": [
    "### Categorical Imputations"
   ]
  },
  {
   "cell_type": "code",
   "execution_count": null,
   "id": "de40a6b6-41a0-4112-b1d2-8306dfc5f056",
   "metadata": {},
   "outputs": [],
   "source": []
  },
  {
   "cell_type": "markdown",
   "id": "68aebb09-4945-47af-bcf0-b7929a1f9e61",
   "metadata": {},
   "source": [
    "### Numeric Imputations"
   ]
  }
 ],
 "metadata": {
  "kernelspec": {
   "display_name": "Python 3 (ipykernel)",
   "language": "python",
   "name": "python3"
  },
  "language_info": {
   "codemirror_mode": {
    "name": "ipython",
    "version": 3
   },
   "file_extension": ".py",
   "mimetype": "text/x-python",
   "name": "python",
   "nbconvert_exporter": "python",
   "pygments_lexer": "ipython3",
   "version": "3.10.5"
  }
 },
 "nbformat": 4,
 "nbformat_minor": 5
}
